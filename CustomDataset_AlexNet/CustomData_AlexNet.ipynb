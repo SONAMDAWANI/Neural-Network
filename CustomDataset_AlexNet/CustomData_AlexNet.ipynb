{
 "cells": [
  {
   "cell_type": "code",
   "execution_count": 33,
   "metadata": {},
   "outputs": [],
   "source": [
    "import torch\n",
    "from torchvision import models\n",
    "from torch.utils.data import Dataset, DataLoader\n",
    "import pandas as pd\n",
    "import os\n",
    "from torchvision import transforms\n",
    "from PIL import Image"
   ]
  },
  {
   "cell_type": "markdown",
   "metadata": {},
   "source": [
    "Getting our CNN ready to predict"
   ]
  },
  {
   "cell_type": "code",
   "execution_count": 34,
   "metadata": {},
   "outputs": [],
   "source": [
    "alexnet = models.alexnet(pretrained=True)\n",
    "alexnet.eval()\n",
    "\n",
    "with open('imagenet_classes.txt') as f:\n",
    "  classes = [line.strip() for line in f.readlines()]"
   ]
  },
  {
   "cell_type": "markdown",
   "metadata": {},
   "source": [
    "### Creating our Custom Dataset"
   ]
  },
  {
   "cell_type": "markdown",
   "metadata": {},
   "source": [
    "CSV we have"
   ]
  },
  {
   "cell_type": "code",
   "execution_count": 35,
   "metadata": {},
   "outputs": [
    {
     "data": {
      "text/html": [
       "<div>\n",
       "<style scoped>\n",
       "    .dataframe tbody tr th:only-of-type {\n",
       "        vertical-align: middle;\n",
       "    }\n",
       "\n",
       "    .dataframe tbody tr th {\n",
       "        vertical-align: top;\n",
       "    }\n",
       "\n",
       "    .dataframe thead th {\n",
       "        text-align: right;\n",
       "    }\n",
       "</style>\n",
       "<table border=\"1\" class=\"dataframe\">\n",
       "  <thead>\n",
       "    <tr style=\"text-align: right;\">\n",
       "      <th></th>\n",
       "      <th>0</th>\n",
       "    </tr>\n",
       "  </thead>\n",
       "  <tbody>\n",
       "    <tr>\n",
       "      <td>0</td>\n",
       "      <td>dog.jpg</td>\n",
       "    </tr>\n",
       "    <tr>\n",
       "      <td>1</td>\n",
       "      <td>cat.jpg</td>\n",
       "    </tr>\n",
       "  </tbody>\n",
       "</table>\n",
       "</div>"
      ],
      "text/plain": [
       "         0\n",
       "0  dog.jpg\n",
       "1  cat.jpg"
      ]
     },
     "execution_count": 35,
     "metadata": {},
     "output_type": "execute_result"
    }
   ],
   "source": [
    "st=pd.read_csv('datasetinfo.csv',header=None)\n",
    "st"
   ]
  },
  {
   "cell_type": "code",
   "execution_count": 40,
   "metadata": {},
   "outputs": [],
   "source": [
    "class ImageClassificationDataset(Dataset):\n",
    "\n",
    "    def __init__(self, csv_file, root_dir, transform=None):\n",
    "        self.datasetinfo = pd.read_csv(csv_file,header=None)\n",
    "        self.root_dir = root_dir\n",
    "        self.transform = transform\n",
    "\n",
    "    def __len__(self):\n",
    "        return len(self.datasetinfo)\n",
    "\n",
    "    def __getitem__(self, idx):\n",
    "        if torch.is_tensor(idx):\n",
    "            idx = idx.tolist()\n",
    "\n",
    "        img_name = os.path.join(self.root_dir,\n",
    "                                self.datasetinfo.iloc[idx, 0])\n",
    "        print(img_name)\n",
    "        image = Image.open(img_name)\n",
    "        image.show()\n",
    "        if self.transform:\n",
    "            sample = self.transform(image)\n",
    "        item = torch.unsqueeze(sample, 0)\n",
    "\n",
    "        return item"
   ]
  },
  {
   "cell_type": "code",
   "execution_count": 41,
   "metadata": {},
   "outputs": [],
   "source": [
    "transformed_dataset = ImageClassificationDataset(csv_file='datasetinfo.csv',\n",
    "                                           root_dir='pics/',\n",
    "                                           transform=transforms.Compose([            #[1]\n",
    "                                                         transforms.Resize(256),                    #[2]\n",
    "                                                         transforms.CenterCrop(224),                #[3]\n",
    "                                                         transforms.ToTensor(),                     #[4]\n",
    "                                                         transforms.Normalize(                      #[5]\n",
    "                                                         mean=[0.485, 0.456, 0.406],                #[6]\n",
    "                                                         std=[0.229, 0.224, 0.225]                  #[7]\n",
    "                                                         )])\n",
    "                                          )"
   ]
  },
  {
   "cell_type": "code",
   "execution_count": 42,
   "metadata": {},
   "outputs": [
    {
     "name": "stdout",
     "output_type": "stream",
     "text": [
      "pics/dog.jpg\n",
      "tensor([[[[ 0.6734,  0.6049,  0.5364,  ...,  0.7933,  0.6906,  0.6734],\n",
      "          [ 0.6221,  0.5878,  0.5878,  ...,  0.6906,  0.6734,  0.7077],\n",
      "          [ 0.6221,  0.6734,  0.6734,  ...,  0.5878,  0.6221,  0.6734],\n",
      "          ...,\n",
      "          [ 0.1426,  0.1426,  0.0227,  ..., -0.3198,  0.0398,  0.0912],\n",
      "          [-0.5082, -0.1486, -0.1828,  ...,  0.0227, -0.0458,  0.3138],\n",
      "          [-0.4568, -0.3027, -0.2342,  ...,  0.1083,  0.1254,  0.2624]],\n",
      "\n",
      "         [[ 1.0455,  0.9755,  0.9055,  ...,  1.1856,  1.0455,  0.9930],\n",
      "          [ 1.0105,  0.9580,  0.9580,  ...,  1.0805,  1.0280,  1.0280],\n",
      "          [ 1.0105,  1.0455,  1.0455,  ...,  0.9755,  0.9755,  0.9930],\n",
      "          ...,\n",
      "          [ 0.5553,  0.6078,  0.5553,  ...,  0.0126,  0.3978,  0.4678],\n",
      "          [ 0.0126,  0.4328,  0.4503,  ...,  0.3803,  0.3102,  0.6604],\n",
      "          [ 0.1702,  0.3627,  0.4853,  ...,  0.4503,  0.4328,  0.5378]],\n",
      "\n",
      "         [[ 0.2871,  0.2522,  0.1999,  ...,  0.3393,  0.2522,  0.2348],\n",
      "          [ 0.1999,  0.2173,  0.2522,  ...,  0.2173,  0.2173,  0.2871],\n",
      "          [ 0.1825,  0.2696,  0.3393,  ...,  0.1302,  0.1825,  0.2348],\n",
      "          ...,\n",
      "          [-0.2010, -0.1661, -0.2532,  ..., -0.7064, -0.3927, -0.3753],\n",
      "          [-0.8110, -0.4450, -0.4798,  ..., -0.3753, -0.4798, -0.1661],\n",
      "          [-0.7064, -0.5844, -0.5321,  ..., -0.3753, -0.3578, -0.2184]]]])\n"
     ]
    }
   ],
   "source": [
    "print(transformed_dataset[0])"
   ]
  },
  {
   "cell_type": "code",
   "execution_count": 39,
   "metadata": {},
   "outputs": [
    {
     "name": "stdout",
     "output_type": "stream",
     "text": [
      "pics/dog.jpg\n"
     ]
    },
    {
     "data": {
      "text/plain": [
       "[('Labrador retriever', 41.58518600463867),\n",
       " ('golden retriever', 16.59165382385254),\n",
       " ('Saluki, gazelle hound', 16.286855697631836),\n",
       " ('whippet', 2.853914976119995),\n",
       " ('Ibizan hound, Ibizan Podenco', 2.3924756050109863)]"
      ]
     },
     "execution_count": 39,
     "metadata": {},
     "output_type": "execute_result"
    }
   ],
   "source": [
    "out = alexnet(transformed_dataset[0])\n",
    "\n",
    "_, indices = torch.sort(out, descending=True)\n",
    "percentage = torch.nn.functional.softmax(out, dim=1)[0] * 100\n",
    "[(classes[idx], percentage[idx].item()) for idx in indices[0][:5]]"
   ]
  },
  {
   "cell_type": "code",
   "execution_count": null,
   "metadata": {},
   "outputs": [],
   "source": []
  },
  {
   "cell_type": "code",
   "execution_count": null,
   "metadata": {},
   "outputs": [],
   "source": []
  }
 ],
 "metadata": {
  "kernelspec": {
   "display_name": "Python 3",
   "language": "python",
   "name": "python3"
  },
  "language_info": {
   "codemirror_mode": {
    "name": "ipython",
    "version": 3
   },
   "file_extension": ".py",
   "mimetype": "text/x-python",
   "name": "python",
   "nbconvert_exporter": "python",
   "pygments_lexer": "ipython3",
   "version": "3.7.4"
  }
 },
 "nbformat": 4,
 "nbformat_minor": 2
}
