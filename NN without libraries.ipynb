{
 "cells": [
  {
   "cell_type": "markdown",
   "metadata": {},
   "source": [
    "https://towardsdatascience.com/neural-networks-from-scratch-easy-vs-hard-b26ddc2e89c7"
   ]
  },
  {
   "cell_type": "code",
   "execution_count": 1,
   "metadata": {},
   "outputs": [],
   "source": [
    "import pandas as pd\n",
    "import matplotlib.pyplot as plt\n",
    "from sklearn.datasets import load_digits\n",
    "from sklearn.model_selection import train_test_split\n",
    "import numpy as np\n",
    "\n",
    "%matplotlib inline"
   ]
  },
  {
   "cell_type": "code",
   "execution_count": 15,
   "metadata": {},
   "outputs": [
    {
     "name": "stdout",
     "output_type": "stream",
     "text": [
      "(1797, 64)\n"
     ]
    },
    {
     "data": {
      "text/plain": [
       "<Figure size 432x288 with 0 Axes>"
      ]
     },
     "metadata": {},
     "output_type": "display_data"
    },
    {
     "data": {
      "image/png": "[encoded data removed]",
      "text/plain": [
       "<Figure size 288x288 with 1 Axes>"
      ]
     },
     "metadata": {
      "needs_background": "light"
     },
     "output_type": "display_data"
    }
   ],
   "source": [
    "dig = load_digits()\n",
    "plt.gray()\n",
    "plt.matshow(dig.images[25])\n",
    "\n",
    "onehot_target = pd.get_dummies(dig.target)\n",
    "\n",
    "\n",
    "\n",
    "x_train, x_val, y_train, y_val = train_test_split(dig.data, onehot_target, test_size=0.1, random_state=20)\n",
    "# shape of x_train :(1617, 64)\n",
    "# shape of y_train :(1617, 10)\n",
    "print(dig.data.shape)"
   ]
  },
  {
   "cell_type": "markdown",
   "metadata": {},
   "source": [
    "Input layer - 64 neurons (input image array)\n",
    "Hidden layer 1 - 128 neurons (arbitrary)\n",
    "Hidden layer 2 - 128 neurons (arbitrary)\n",
    "Output layer - 10 neurons (output one-hot array)"
   ]
  },
  {
   "cell_type": "code",
   "execution_count": 18,
   "metadata": {},
   "outputs": [
    {
     "name": "stderr",
     "output_type": "stream",
     "text": [
      "Using TensorFlow backend.\n"
     ]
    },
    {
     "name": "stdout",
     "output_type": "stream",
     "text": [
      "Model: \"sequential_1\"\n",
      "_________________________________________________________________\n",
      "Layer (type)                 Output Shape              Param #   \n",
      "=================================================================\n",
      "dense_1 (Dense)              (None, 128)               8320      \n",
      "_________________________________________________________________\n",
      "dense_2 (Dense)              (None, 128)               16512     \n",
      "_________________________________________________________________\n",
      "dense_3 (Dense)              (None, 10)                1290      \n",
      "=================================================================\n",
      "Total params: 26,122\n",
      "Trainable params: 26,122\n",
      "Non-trainable params: 0\n",
      "_________________________________________________________________\n",
      "Epoch 1/50\n",
      "1617/1617 [==============================] - 0s 153us/step - loss: 2.0566 - categorical_accuracy: 0.4712\n",
      "Epoch 2/50\n",
      "1617/1617 [==============================] - 0s 27us/step - loss: 1.3693 - categorical_accuracy: 0.8411\n",
      "Epoch 3/50\n",
      "1617/1617 [==============================] - 0s 24us/step - loss: 0.8917 - categorical_accuracy: 0.9017\n",
      "Epoch 4/50\n",
      "1617/1617 [==============================] - 0s 21us/step - loss: 0.6169 - categorical_accuracy: 0.9252\n",
      "Epoch 5/50\n",
      "1617/1617 [==============================] - 0s 19us/step - loss: 0.4537 - categorical_accuracy: 0.9419\n",
      "Epoch 6/50\n",
      "1617/1617 [==============================] - 0s 21us/step - loss: 0.3487 - categorical_accuracy: 0.9561\n",
      "Epoch 7/50\n",
      "1617/1617 [==============================] - 0s 19us/step - loss: 0.2793 - categorical_accuracy: 0.9672\n",
      "Epoch 8/50\n",
      "1617/1617 [==============================] - 0s 18us/step - loss: 0.2284 - categorical_accuracy: 0.9691\n",
      "Epoch 9/50\n",
      "1617/1617 [==============================] - 0s 17us/step - loss: 0.1912 - categorical_accuracy: 0.9777\n",
      "Epoch 10/50\n",
      "1617/1617 [==============================] - 0s 21us/step - loss: 0.1657 - categorical_accuracy: 0.9765\n",
      "Epoch 11/50\n",
      "1617/1617 [==============================] - 0s 18us/step - loss: 0.1399 - categorical_accuracy: 0.9796\n",
      "Epoch 12/50\n",
      "1617/1617 [==============================] - 0s 18us/step - loss: 0.1221 - categorical_accuracy: 0.9821\n",
      "Epoch 13/50\n",
      "1617/1617 [==============================] - 0s 19us/step - loss: 0.1075 - categorical_accuracy: 0.9852\n",
      "Epoch 14/50\n",
      "1617/1617 [==============================] - 0s 19us/step - loss: 0.0951 - categorical_accuracy: 0.9870\n",
      "Epoch 15/50\n",
      "1617/1617 [==============================] - 0s 17us/step - loss: 0.0843 - categorical_accuracy: 0.9889\n",
      "Epoch 16/50\n",
      "1617/1617 [==============================] - 0s 20us/step - loss: 0.0755 - categorical_accuracy: 0.9889\n",
      "Epoch 17/50\n",
      "1617/1617 [==============================] - 0s 22us/step - loss: 0.0684 - categorical_accuracy: 0.9913\n",
      "Epoch 18/50\n",
      "1617/1617 [==============================] - 0s 22us/step - loss: 0.0621 - categorical_accuracy: 0.9913\n",
      "Epoch 19/50\n",
      "1617/1617 [==============================] - 0s 22us/step - loss: 0.0568 - categorical_accuracy: 0.9920\n",
      "Epoch 20/50\n",
      "1617/1617 [==============================] - 0s 20us/step - loss: 0.0522 - categorical_accuracy: 0.9938\n",
      "Epoch 21/50\n",
      "1617/1617 [==============================] - 0s 21us/step - loss: 0.0463 - categorical_accuracy: 0.9938\n",
      "Epoch 22/50\n",
      "1617/1617 [==============================] - 0s 18us/step - loss: 0.0422 - categorical_accuracy: 0.9951\n",
      "Epoch 23/50\n",
      "1617/1617 [==============================] - 0s 18us/step - loss: 0.0391 - categorical_accuracy: 0.9957\n",
      "Epoch 24/50\n",
      "1617/1617 [==============================] - 0s 19us/step - loss: 0.0362 - categorical_accuracy: 0.9957\n",
      "Epoch 25/50\n",
      "1617/1617 [==============================] - 0s 22us/step - loss: 0.0329 - categorical_accuracy: 0.9963\n",
      "Epoch 26/50\n",
      "1617/1617 [==============================] - 0s 19us/step - loss: 0.0309 - categorical_accuracy: 0.9963\n",
      "Epoch 27/50\n",
      "1617/1617 [==============================] - 0s 18us/step - loss: 0.0278 - categorical_accuracy: 0.9975\n",
      "Epoch 28/50\n",
      "1617/1617 [==============================] - 0s 18us/step - loss: 0.0254 - categorical_accuracy: 0.9981\n",
      "Epoch 29/50\n",
      "1617/1617 [==============================] - 0s 18us/step - loss: 0.0237 - categorical_accuracy: 0.9981\n",
      "Epoch 30/50\n",
      "1617/1617 [==============================] - 0s 18us/step - loss: 0.0223 - categorical_accuracy: 0.9981\n",
      "Epoch 31/50\n",
      "1617/1617 [==============================] - 0s 21us/step - loss: 0.0205 - categorical_accuracy: 0.9981\n",
      "Epoch 32/50\n",
      "1617/1617 [==============================] - 0s 20us/step - loss: 0.0190 - categorical_accuracy: 0.9988\n",
      "Epoch 33/50\n",
      "1617/1617 [==============================] - 0s 19us/step - loss: 0.0173 - categorical_accuracy: 0.9981\n",
      "Epoch 34/50\n",
      "1617/1617 [==============================] - 0s 21us/step - loss: 0.0164 - categorical_accuracy: 0.9988\n",
      "Epoch 35/50\n",
      "1617/1617 [==============================] - 0s 20us/step - loss: 0.0153 - categorical_accuracy: 0.9988\n",
      "Epoch 36/50\n",
      "1617/1617 [==============================] - 0s 20us/step - loss: 0.0142 - categorical_accuracy: 0.9988\n",
      "Epoch 37/50\n",
      "1617/1617 [==============================] - 0s 21us/step - loss: 0.0133 - categorical_accuracy: 0.9988\n",
      "Epoch 38/50\n",
      "1617/1617 [==============================] - 0s 20us/step - loss: 0.0123 - categorical_accuracy: 0.9988\n",
      "Epoch 39/50\n",
      "1617/1617 [==============================] - 0s 18us/step - loss: 0.0117 - categorical_accuracy: 0.9988\n",
      "Epoch 40/50\n",
      "1617/1617 [==============================] - 0s 20us/step - loss: 0.0107 - categorical_accuracy: 0.9994\n",
      "Epoch 41/50\n",
      "1617/1617 [==============================] - 0s 22us/step - loss: 0.0099 - categorical_accuracy: 0.9988\n",
      "Epoch 42/50\n",
      "1617/1617 [==============================] - 0s 19us/step - loss: 0.0094 - categorical_accuracy: 0.9994\n",
      "Epoch 43/50\n",
      "1617/1617 [==============================] - 0s 18us/step - loss: 0.0088 - categorical_accuracy: 0.9994\n",
      "Epoch 44/50\n",
      "1617/1617 [==============================] - 0s 21us/step - loss: 0.0085 - categorical_accuracy: 1.0000\n",
      "Epoch 45/50\n",
      "1617/1617 [==============================] - 0s 19us/step - loss: 0.0077 - categorical_accuracy: 1.0000\n",
      "Epoch 46/50\n",
      "1617/1617 [==============================] - 0s 20us/step - loss: 0.0073 - categorical_accuracy: 1.0000\n",
      "Epoch 47/50\n",
      "1617/1617 [==============================] - 0s 22us/step - loss: 0.0070 - categorical_accuracy: 1.0000\n",
      "Epoch 48/50\n",
      "1617/1617 [==============================] - 0s 20us/step - loss: 0.0065 - categorical_accuracy: 1.0000\n",
      "Epoch 49/50\n",
      "1617/1617 [==============================] - 0s 20us/step - loss: 0.0062 - categorical_accuracy: 1.0000\n",
      "Epoch 50/50\n",
      "1617/1617 [==============================] - 0s 17us/step - loss: 0.0059 - categorical_accuracy: 1.0000\n",
      "180/180 [==============================] - 0s 151us/step\n",
      "\n",
      "categorical_accuracy: 98.89%\n"
     ]
    }
   ],
   "source": [
    "#with libraries\n",
    "from keras.layers import Dense\n",
    "from keras.models import Sequential\n",
    "from keras.optimizers import RMSprop, Adadelta, Adam\n",
    "model = Sequential()\n",
    "model.add(Dense(128, input_dim=x_train.shape[1], activation='sigmoid'))\n",
    "model.add(Dense(128, activation='sigmoid'))\n",
    "model.add(Dense(10, activation='softmax'))\n",
    "\n",
    "model.summary()\n",
    "\n",
    "model.compile(optimizer=Adadelta(), loss='categorical_crossentropy', metrics=['categorical_accuracy'])\n",
    "model.fit(x_train, y_train, epochs=50, batch_size=64)\n",
    "\n",
    "scores = model.evaluate(x_val, y_val)\n",
    "print(\"\\n%s: %.2f%%\" % (model.metrics_names[1], scores[1]*100))\n"
   ]
  },
  {
   "cell_type": "markdown",
   "metadata": {},
   "source": [
    "WITHOUT LIBRARIES"
   ]
  },
  {
   "cell_type": "code",
   "execution_count": null,
   "metadata": {},
   "outputs": [],
   "source": [
    "import pandas as pd\n",
    "import numpy as np\n",
    "from sklearn.datasets import load_digits\n",
    "from sklearn.model_selection import train_test_split\n",
    "\n",
    "dig = load_digits()\n",
    "onehot_target = pd.get_dummies(dig.target)\n",
    "x_train, x_val, y_train, y_val = train_test_split(dig.data, onehot_target, test_size=0.1, random_state=20)\n",
    "\n",
    "def sigmoid(s):\n",
    "    return 1/(1 + np.exp(-s))\n",
    "\n",
    "def sigmoid_derv(s):\n",
    "    return s * (1 - s)\n",
    "\n",
    "def softmax(s):\n",
    "    exps = np.exp(s - np.max(s, axis=1, keepdims=True))\n",
    "    return exps/np.sum(exps, axis=1, keepdims=True)\n",
    "\n",
    "def cross_entropy(pred, real):\n",
    "    n_samples = real.shape[0]\n",
    "    res = pred - real\n",
    "    return res/n_samples\n",
    "\n",
    "def error(pred, real):\n",
    "    n_samples = real.shape[0]\n",
    "    logp = - np.log(pred[np.arange(n_samples), real.argmax(axis=1)])\n",
    "    loss = np.sum(logp)/n_samples\n",
    "    return loss\n",
    "\n",
    "class MyNN:\n",
    "    def __init__(self, x, y):\n",
    "        self.x = x\n",
    "        neurons = 128\n",
    "        self.lr = 0.5\n",
    "        ip_dim = x.shape[1]\n",
    "        op_dim = y.shape[1]\n",
    "\n",
    "        self.w1 = np.random.randn(ip_dim, neurons)\n",
    "        self.b1 = np.zeros((1, neurons))\n",
    "        self.w2 = np.random.randn(neurons, neurons)\n",
    "        self.b2 = np.zeros((1, neurons))\n",
    "        self.w3 = np.random.randn(neurons, op_dim)\n",
    "        self.b3 = np.zeros((1, op_dim))\n",
    "        self.y = y\n",
    "\n",
    "    def feedforward(self):\n",
    "        z1 = np.dot(self.x, self.w1) + self.b1\n",
    "        self.a1 = sigmoid(z1)\n",
    "        z2 = np.dot(self.a1, self.w2) + self.b2\n",
    "        self.a2 = sigmoid(z2)\n",
    "        z3 = np.dot(self.a2, self.w3) + self.b3\n",
    "        self.a3 = softmax(z3)\n",
    "        \n",
    "    def backprop(self):\n",
    "        loss = error(self.a3, self.y)\n",
    "        print('Error :', loss)\n",
    "        a3_delta = cross_entropy(self.a3, self.y) # w3\n",
    "        z2_delta = np.dot(a3_delta, self.w3.T)\n",
    "        a2_delta = z2_delta * sigmoid_derv(self.a2) # w2\n",
    "        z1_delta = np.dot(a2_delta, self.w2.T)\n",
    "        a1_delta = z1_delta * sigmoid_derv(self.a1) # w1\n",
    "\n",
    "        self.w3 -= self.lr * np.dot(self.a2.T, a3_delta)\n",
    "        self.b3 -= self.lr * np.sum(a3_delta, axis=0, keepdims=True)\n",
    "        self.w2 -= self.lr * np.dot(self.a1.T, a2_delta)\n",
    "        self.b2 -= self.lr * np.sum(a2_delta, axis=0)\n",
    "        self.w1 -= self.lr * np.dot(self.x.T, a1_delta)\n",
    "        self.b1 -= self.lr * np.sum(a1_delta, axis=0)\n",
    "\n",
    "    def predict(self, data):\n",
    "        self.x = data\n",
    "        self.feedforward()\n",
    "        return self.a3.argmax()\n",
    "\t\t\t\n",
    "model = MyNN(x_train/16.0, np.array(y_train))\n",
    "\n",
    "epochs = 1500\n",
    "for x in range(epochs):\n",
    "    model.feedforward()\n",
    "    model.backprop()\n",
    "\t\t\n",
    "def get_acc(x, y):\n",
    "    acc = 0\n",
    "    for xx,yy in zip(x, y):\n",
    "        s = model.predict(xx)\n",
    "        if s == np.argmax(yy):\n",
    "            acc +=1\n",
    "    return acc/len(x)*100\n",
    "\t\n",
    "print(\"Training accuracy : \", get_acc(x_train/16, np.array(y_train)))\n",
    "print(\"Test accuracy : \", get_acc(x_val/16, np.array(y_val)))"
   ]
  },
  {
   "cell_type": "code",
   "execution_count": null,
   "metadata": {},
   "outputs": [],
   "source": []
  },
  {
   "cell_type": "code",
   "execution_count": null,
   "metadata": {},
   "outputs": [],
   "source": []
  },
  {
   "cell_type": "code",
   "execution_count": null,
   "metadata": {},
   "outputs": [],
   "source": []
  }
 ],
 "metadata": {
  "kernelspec": {
   "display_name": "Python 3",
   "language": "python",
   "name": "python3"
  },
  "language_info": {
   "codemirror_mode": {
    "name": "ipython",
    "version": 3
   },
   "file_extension": ".py",
   "mimetype": "text/x-python",
   "name": "python",
   "nbconvert_exporter": "python",
   "pygments_lexer": "ipython3",
   "version": "3.7.4"
  }
 },
 "nbformat": 4,
 "nbformat_minor": 2
}
